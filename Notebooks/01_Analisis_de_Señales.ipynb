{
  "nbformat": 4,
  "nbformat_minor": 0,
  "metadata": {
    "colab": {
      "name": "01_Analisis_de_Señales.ipynb",
      "provenance": [],
      "collapsed_sections": []
    },
    "kernelspec": {
      "name": "python3",
      "display_name": "Python 3"
    }
  },
  "cells": [
    {
      "cell_type": "markdown",
      "metadata": {
        "id": "IK5TM-PpRpdc",
        "colab_type": "text"
      },
      "source": [
        "# Analisis de señales periodicas - Series de Fourier <br>\n",
        "Sistemas de Comunicación - SCT54 <br>\n",
        "Instituto Tecnológico Metropolitano - ITM"
      ]
    },
    {
      "cell_type": "markdown",
      "metadata": {
        "id": "vQRe_R8SD233",
        "colab_type": "text"
      },
      "source": [
        "## Las Series de Fourier\n",
        "\n",
        "Cualquier señal periódica ($x(t)=x(t+T)$) se puede expresar como la suma infinita de senos y cosenos donde su frecuencias son multiplos de una frecuencia fundamental $f=\\frac{1}{T}$, con T como el periodo. <br>\n",
        "\n",
        "$$ x(t) = \\frac{a}{2} + \\sum_{n=1}^{\\infty} \\left[ a_n \\cos(2n\\pi f t) + b_n \\sin(2n\\pi f t) \\right]$$ \n",
        "\n",
        "Donde los coeficientes $a_0$, $a_n$ y $b_n$ se calculan\n",
        "$$a_0 = 2f \\int_{-T/2}^{T/2} x(t) \\operatorname{d}t,\\quad a_n = 2f \\int_{-T/2}^{T/2} x(t) \\cos(2n\\pi f t) \\operatorname{d}t, \\quad  b_n = 2f \\int_{-T/2}^{T/2} x(t) \\sin(2n\\pi f t) \\operatorname{d}t$$\n",
        "\n",
        "Los limites de las integrales tambien pueden estar definidos de $[0,T]$, lo importante es analizar un periodo de la señal. Consideremos como ejemplo la siguiente señal periódica\n",
        "\n",
        "<figure>\n",
        "<center>\n",
        "<img src='https://www.researchgate.net/publication/312928999/figure/fig1/AS:669069531430915@1536530015313/Square-wave-with-fifty-percent-duty-cycle-and-zero-volt-DC-offset_W640.jpg' />\n",
        "<figcaption>Señal Periódica</figcaption></center>\n",
        "</figure>\n",
        "\n",
        "Calculamos inicialmente $a_0$ asi:\n",
        "\\begin{align} \n",
        "a_0 &= 2f \\int_{-T/2}^{T/2} x(t) \\operatorname{d}t \n",
        "\\\\ &= 2f \\left[\\int_{-T/2}^{0} (-1) \\operatorname{d}t  + \\int_{0}^{T/2} (1) \\operatorname{d}t \\right] \n",
        "\\\\ &= \\frac{2}{T}\\left[ \\left.-t\\right|_{-T/2}^0 + \\left.t\\right|_0^{T/2} \\right]\n",
        "\\\\ &= \\frac{2}{T}\\left[ -(0 - (-T/2)) + (T/2 - 0) \\right]\n",
        "\\\\ &= \\frac{2}{T}\\left[ -\\frac{T}{2} + \\frac{T}{2} \\right] = 0 \n",
        "\\end{align}\n",
        "\n",
        "Luego, calculamos los $a_n$ asumiendo que $\\theta = 2n\\pi ft$ y $\\operatorname{d}\\theta = 2n\\pi f \\operatorname{d}t$, entonces\n",
        "\\begin{align} \n",
        "a_n &= 2f \\int_{-T/2}^{T/2} x(t)\\cos(2n\\pi f t) \\operatorname{d}t \\\\ &= 2f \\int_{-T/2}^{T/2} x(t)\\cos(\\theta) \\frac{\\operatorname{d}\\theta}{2n\\pi f} \n",
        "\\\\ &= \\frac{2f}{2n\\pi f} \\left[\\int_{-T/2}^{0} (-1) \\cos(\\theta) \\operatorname{d}\\theta  + \\int_{0}^{T/2} (1) \\cos(\\theta) \\operatorname{d}\\theta \\right] \n",
        "\\\\ &= \\frac{1}{n\\pi} \\left[ \\left. -\\sin(2n\\pi f t)\\right|_{-T/2}^{0} + \\left. \\sin(2n\\pi f t)\\right|_{0}^{T/2} \\right]  \n",
        "\\\\ &= \\frac{2}{T}\\left[ -\\left[\\sin(0) - \\sin(2n\\pi f \\times[-T/2])\\right] + \\left[\\sin(2n\\pi f T/2) - \\sin(0)\\right] \\right]\n",
        "\\\\ &= \\frac{2}{T}\\left[ -\\sin(n\\pi) + \\sin(n\\pi) \\right] = 0\n",
        "\\end{align}"
      ]
    },
    {
      "cell_type": "markdown",
      "metadata": {
        "id": "umOjnBNx6leA",
        "colab_type": "text"
      },
      "source": [
        "Calculamos los coeficientes $b_n$ usando la libreria Sympy."
      ]
    },
    {
      "cell_type": "code",
      "metadata": {
        "id": "zMbTbmNg1BLv",
        "colab_type": "code",
        "colab": {
          "base_uri": "https://localhost:8080/",
          "height": 34
        },
        "outputId": "16abc0a2-674b-4393-9bea-debb45acb497"
      },
      "source": [
        "import sympy as sym\n",
        "\n",
        "T = sym.Symbol('T')\n",
        "n = sym.Symbol('n', integer = True)\n",
        "t = sym.Symbol('t')\n",
        "V = sym.Symbol('V') # Se asume que la amplitud es V\n",
        "f = 1/T\n",
        "res = 2*f*V*(sym.integrate(-sym.sin(2*n*sym.pi*f*t),(t,-T/2,0))+sym.integrate(sym.sin(2*n*sym.pi*f*t),(t,0,T/2)))\n",
        "print(sym.simplify(res))"
      ],
      "execution_count": 1,
      "outputs": [
        {
          "output_type": "stream",
          "text": [
            "Piecewise((0, Eq(2*pi*n/T, 0)), (V*(-2*(-1)**n + 2)/(pi*n), True))\n"
          ],
          "name": "stdout"
        }
      ]
    },
    {
      "cell_type": "code",
      "metadata": {
        "id": "RzzEwmxO4F0v",
        "colab_type": "code",
        "colab": {}
      },
      "source": [
        "import numpy as np"
      ],
      "execution_count": 0,
      "outputs": []
    },
    {
      "cell_type": "code",
      "metadata": {
        "id": "CZa0CFPw72nu",
        "colab_type": "code",
        "colab": {}
      },
      "source": [
        "T = 0.001\n",
        "t = np.linspace(0,T,100)\n",
        "V = 4.0\n",
        "f = 1.0/T\n",
        "\n",
        "vt = 0.0\n",
        "\n",
        "for n in range(1,10,2):\n",
        "  vt = vt + V*(-2*(-1)**n + 2)/(n*np.pi)*np.sin(2.0*np.pi*f*n*t)"
      ],
      "execution_count": 0,
      "outputs": []
    },
    {
      "cell_type": "code",
      "metadata": {
        "id": "Z-kTVvAt8oJg",
        "colab_type": "code",
        "outputId": "59f8a1ba-bbda-45ce-b982-b8602fe79fb6",
        "colab": {
          "base_uri": "https://localhost:8080/",
          "height": 282
        }
      },
      "source": [
        "import matplotlib.pyplot as plt\n",
        "\n",
        "plt.plot(t,vt)"
      ],
      "execution_count": 4,
      "outputs": [
        {
          "output_type": "execute_result",
          "data": {
            "text/plain": [
              "[<matplotlib.lines.Line2D at 0x7f21ee05f4a8>]"
            ]
          },
          "metadata": {
            "tags": []
          },
          "execution_count": 4
        },
        {
          "output_type": "display_data",
          "data": {
            "image/png": "[encoded data removed]",
            "text/plain": [
              "<Figure size 432x288 with 1 Axes>"
            ]
          },
          "metadata": {
            "tags": []
          }
        }
      ]
    },
    {
      "cell_type": "markdown",
      "metadata": {
        "id": "w9L0KkGnO70P",
        "colab_type": "text"
      },
      "source": [
        "### Ejemplo 1 <br>\n",
        "a) Determinar las amplitudes máximas y las frecuencias de las primeras cinco armónicas impares. b) Trazar el espectro de frecuencias. c) Calcular el voltaje instantáneo total, para varios tiempos, y trazar la forma de onda en el dominio del tiempo. <br>\n",
        "![texto alternativo](https://github.com/cdguarnizo/SCT54_ITM/blob/master/Notebooks/figs/Tomasi_eje_1-12.png?raw=true)"
      ]
    },
    {
      "cell_type": "code",
      "metadata": {
        "id": "TWeBHtQDO_ZX",
        "colab_type": "code",
        "colab": {
          "base_uri": "https://localhost:8080/",
          "height": 34
        },
        "outputId": "35df53e7-bfee-4751-d40f-fa10b7dff89c"
      },
      "source": [
        "#Datos\n",
        "T = 1e-3\n",
        "V = 4.\n",
        "\n",
        "#Caculos\n",
        "f = 1/T   #Frecuencia fundamental\n",
        "n = np.arange(1,10,2) #Vector de armonicos\n",
        "print(n)"
      ],
      "execution_count": 5,
      "outputs": [
        {
          "output_type": "stream",
          "text": [
            "[1 3 5 7 9]\n"
          ],
          "name": "stdout"
        }
      ]
    },
    {
      "cell_type": "code",
      "metadata": {
        "id": "SLBNtK1GQNhU",
        "colab_type": "code",
        "colab": {
          "base_uri": "https://localhost:8080/",
          "height": 51
        },
        "outputId": "1a3ebea3-14d6-4e2c-bba0-a0f7d01c2586"
      },
      "source": [
        "#Solucion parte a)\n",
        "fn = f*n\n",
        "Vn = 4.0*V/(np.pi*n)\n",
        "print(\"fn=\",fn,'\\n',\"Vn=\",Vn)"
      ],
      "execution_count": 6,
      "outputs": [
        {
          "output_type": "stream",
          "text": [
            "fn= [1000. 3000. 5000. 7000. 9000.] \n",
            " Vn= [5.09295818 1.69765273 1.01859164 0.72756545 0.56588424]\n"
          ],
          "name": "stdout"
        }
      ]
    },
    {
      "cell_type": "code",
      "metadata": {
        "id": "wFdBL2uAPLzO",
        "colab_type": "code",
        "colab": {
          "base_uri": "https://localhost:8080/",
          "height": 336
        },
        "outputId": "e9ef572e-bf6f-4a46-b740-69212cce6b8a"
      },
      "source": [
        "import matplotlib.pyplot as plt\n",
        "%matplotlib inline\n",
        "\n",
        "#Solucion parte b)\n",
        "plt.stem(fn,Vn)"
      ],
      "execution_count": 7,
      "outputs": [
        {
          "output_type": "stream",
          "text": [
            "/usr/local/lib/python3.6/dist-packages/ipykernel_launcher.py:5: UserWarning: In Matplotlib 3.3 individual lines on a stem plot will be added as a LineCollection instead of individual lines. This significantly improves the performance of a stem plot. To remove this warning and switch to the new behaviour, set the \"use_line_collection\" keyword argument to True.\n",
            "  \"\"\"\n"
          ],
          "name": "stderr"
        },
        {
          "output_type": "execute_result",
          "data": {
            "text/plain": [
              "<StemContainer object of 3 artists>"
            ]
          },
          "metadata": {
            "tags": []
          },
          "execution_count": 7
        },
        {
          "output_type": "display_data",
          "data": {
            "image/png": "[encoded data removed]",
            "text/plain": [
              "<Figure size 432x288 with 1 Axes>"
            ]
          },
          "metadata": {
            "tags": []
          }
        }
      ]
    },
    {
      "cell_type": "code",
      "metadata": {
        "id": "q2LWGKVlQai6",
        "colab_type": "code",
        "colab": {
          "base_uri": "https://localhost:8080/",
          "height": 282
        },
        "outputId": "3c3e2d34-8ceb-4dec-8dac-6c6044fcca6b"
      },
      "source": [
        "#Solucion parte c)\n",
        "t = np.linspace(0,T,100)\n",
        "Vt = 0.\n",
        "for (fi,Vi) in zip(fn,Vn):\n",
        "  Vt += Vi*np.sin(2.0*np.pi*fi*t)\n",
        "\n",
        "plt.plot(t,Vt)"
      ],
      "execution_count": 8,
      "outputs": [
        {
          "output_type": "execute_result",
          "data": {
            "text/plain": [
              "[<matplotlib.lines.Line2D at 0x7f21edaa2a90>]"
            ]
          },
          "metadata": {
            "tags": []
          },
          "execution_count": 8
        },
        {
          "output_type": "display_data",
          "data": {
            "image/png": "[encoded data removed]",
            "text/plain": [
              "<Figure size 432x288 with 1 Axes>"
            ]
          },
          "metadata": {
            "tags": []
          }
        }
      ]
    },
    {
      "cell_type": "markdown",
      "metadata": {
        "id": "j1tH9_0pRK-W",
        "colab_type": "text"
      },
      "source": [
        "### Ejemplo 2\n",
        "a) Determinar la componente de corriente directa (DC). b) Determine las amplitudes maximas de las 10 primeras armónicas. c) Grafique la funcion $\\sin(x)/x$, con $x=\\pi(\\tau/T)$. Trace el espectro de frecuencias."
      ]
    },
    {
      "cell_type": "markdown",
      "metadata": {
        "id": "kh10qwqGROoT",
        "colab_type": "text"
      },
      "source": [
        "![texto alternativo](https://github.com/cdguarnizo/SCT54_ITM/blob/master/Notebooks/figs/Tomasi_eje_1-15.png?raw=true)"
      ]
    },
    {
      "cell_type": "code",
      "metadata": {
        "id": "cnEG1tBLRRqk",
        "colab_type": "code",
        "colab": {}
      },
      "source": [
        "#Datos\n",
        "tau = .4e-3\n",
        "T = 2e-3\n",
        "V = 1.0\n",
        "\n",
        "DC = tau/T"
      ],
      "execution_count": 0,
      "outputs": []
    },
    {
      "cell_type": "code",
      "metadata": {
        "id": "SvnGpEooRZ58",
        "colab_type": "code",
        "colab": {
          "base_uri": "https://localhost:8080/",
          "height": 34
        },
        "outputId": "5ed595e6-3328-440e-e312-9baa143a0c64"
      },
      "source": [
        "# Solucion parte a) Componente DC\n",
        "V0 = V*DC\n",
        "print(V0)"
      ],
      "execution_count": 10,
      "outputs": [
        {
          "output_type": "stream",
          "text": [
            "0.2\n"
          ],
          "name": "stdout"
        }
      ]
    },
    {
      "cell_type": "code",
      "metadata": {
        "id": "dj7Yvcv0Ra_8",
        "colab_type": "code",
        "colab": {
          "base_uri": "https://localhost:8080/",
          "height": 68
        },
        "outputId": "8c35906f-da18-4e9f-a05d-a3fb3ee883d9"
      },
      "source": [
        "# Solucion parte b) \n",
        "n = np.arange(1,10+1)\n",
        "x = np.pi*DC\n",
        "f = 1/T\n",
        "fn = f*n\n",
        "Vn = 2*V0*np.sin(n*x)/(n*x)\n",
        "\n",
        "print(fn,Vn)"
      ],
      "execution_count": 11,
      "outputs": [
        {
          "output_type": "stream",
          "text": [
            "[ 500. 1000. 1500. 2000. 2500. 3000. 3500. 4000. 4500. 5000.] [ 3.74195714e-01  3.02730691e-01  2.01820461e-01  9.35489284e-02\n",
            "  1.55926873e-17 -6.23659523e-02 -8.64944833e-02 -7.56826729e-02\n",
            " -4.15773015e-02 -1.55926873e-17]\n"
          ],
          "name": "stdout"
        }
      ]
    },
    {
      "cell_type": "code",
      "metadata": {
        "id": "u9n2g9jsRft0",
        "colab_type": "code",
        "colab": {
          "base_uri": "https://localhost:8080/",
          "height": 282
        },
        "outputId": "295ec3bb-609e-4dad-bc0a-da001d57b4de"
      },
      "source": [
        "# Solucion parte c) ]\n",
        "plt.plot(fn,Vn)"
      ],
      "execution_count": 12,
      "outputs": [
        {
          "output_type": "execute_result",
          "data": {
            "text/plain": [
              "[<matplotlib.lines.Line2D at 0x7f21eda8b0b8>]"
            ]
          },
          "metadata": {
            "tags": []
          },
          "execution_count": 12
        },
        {
          "output_type": "display_data",
          "data": {
            "image/png": "[encoded data removed]",
            "text/plain": [
              "<Figure size 432x288 with 1 Axes>"
            ]
          },
          "metadata": {
            "tags": []
          }
        }
      ]
    },
    {
      "cell_type": "code",
      "metadata": {
        "id": "XCDxFYgjRi-E",
        "colab_type": "code",
        "colab": {
          "base_uri": "https://localhost:8080/",
          "height": 336
        },
        "outputId": "904f1262-3a57-453c-a526-740acaff2966"
      },
      "source": [
        "# Solucion parte d)\n",
        "fn = np.hstack((0,fn))\n",
        "Vn = np.hstack((V0,Vn))\n",
        "plt.stem(fn,np.abs(Vn))"
      ],
      "execution_count": 13,
      "outputs": [
        {
          "output_type": "stream",
          "text": [
            "/usr/local/lib/python3.6/dist-packages/ipykernel_launcher.py:3: UserWarning: In Matplotlib 3.3 individual lines on a stem plot will be added as a LineCollection instead of individual lines. This significantly improves the performance of a stem plot. To remove this warning and switch to the new behaviour, set the \"use_line_collection\" keyword argument to True.\n",
            "  This is separate from the ipykernel package so we can avoid doing imports until\n"
          ],
          "name": "stderr"
        },
        {
          "output_type": "execute_result",
          "data": {
            "text/plain": [
              "<StemContainer object of 3 artists>"
            ]
          },
          "metadata": {
            "tags": []
          },
          "execution_count": 13
        },
        {
          "output_type": "display_data",
          "data": {
            "image/png": "[encoded data removed]",
            "text/plain": [
              "<Figure size 432x288 with 1 Axes>"
            ]
          },
          "metadata": {
            "tags": []
          }
        }
      ]
    }
  ]
}